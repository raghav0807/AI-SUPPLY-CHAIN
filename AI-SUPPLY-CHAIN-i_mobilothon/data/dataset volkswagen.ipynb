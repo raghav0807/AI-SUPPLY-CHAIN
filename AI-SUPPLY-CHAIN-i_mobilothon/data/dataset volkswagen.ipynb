{
 "cells": [
  {
   "cell_type": "code",
   "execution_count": 1,
   "id": "3bd74439",
   "metadata": {},
   "outputs": [
    {
     "name": "stdout",
     "output_type": "stream",
     "text": [
      "Requirement already satisfied: pandas in c:\\users\\vgoya\\anaconda3\\lib\\site-packages (1.5.3)\n",
      "Requirement already satisfied: numpy in c:\\users\\vgoya\\anaconda3\\lib\\site-packages (1.23.5)\n",
      "Requirement already satisfied: pytz>=2020.1 in c:\\users\\vgoya\\anaconda3\\lib\\site-packages (from pandas) (2022.7)\n",
      "Requirement already satisfied: python-dateutil>=2.8.1 in c:\\users\\vgoya\\anaconda3\\lib\\site-packages (from pandas) (2.8.2)\n",
      "Requirement already satisfied: six>=1.5 in c:\\users\\vgoya\\anaconda3\\lib\\site-packages (from python-dateutil>=2.8.1->pandas) (1.16.0)\n",
      "Note: you may need to restart the kernel to use updated packages.\n"
     ]
    },
    {
     "name": "stderr",
     "output_type": "stream",
     "text": [
      "WARNING: Ignoring invalid distribution -orch (c:\\users\\vgoya\\anaconda3\\lib\\site-packages)\n",
      "WARNING: Ignoring invalid distribution -orch (c:\\users\\vgoya\\anaconda3\\lib\\site-packages)\n",
      "WARNING: Ignoring invalid distribution -orch (c:\\users\\vgoya\\anaconda3\\lib\\site-packages)\n",
      "WARNING: Ignoring invalid distribution -orch (c:\\users\\vgoya\\anaconda3\\lib\\site-packages)\n",
      "WARNING: Ignoring invalid distribution -orch (c:\\users\\vgoya\\anaconda3\\lib\\site-packages)\n",
      "WARNING: Ignoring invalid distribution -orch (c:\\users\\vgoya\\anaconda3\\lib\\site-packages)\n"
     ]
    }
   ],
   "source": [
    "pip install pandas numpy"
   ]
  },
  {
   "cell_type": "code",
   "execution_count": 2,
   "id": "c0b9a270",
   "metadata": {},
   "outputs": [],
   "source": [
    "import pandas as pd\n",
    "import numpy as np\n",
    "from datetime import datetime, timedelta\n",
    "import random"
   ]
  },
  {
   "cell_type": "code",
   "execution_count": 3,
   "id": "4704e897",
   "metadata": {},
   "outputs": [],
   "source": [
    "\n",
    "# Parameters for generating the dataset for 34 OEMs\n",
    "num_factories = 34\n",
    "machinery_per_factory = 12  # Approximate number of unique machinery types per factory\n",
    "factory_ids = [f\"VW_{i:02}\" for i in range(1, num_factories + 1)]\n",
    "locations = [\n",
    "    {\"city\": \"Beijing\", \"country\": \"China\"},\n",
    "    {\"city\": \"Shanghai\", \"country\": \"China\"},\n",
    "    {\"city\": \"Pune\", \"country\": \"India\"},\n",
    "    {\"city\": \"Chennai\", \"country\": \"India\"},\n",
    "    {\"city\": \"Bangkok\", \"country\": \"Thailand\"},\n",
    "    {\"city\": \"Jakarta\", \"country\": \"Indonesia\"},\n",
    "    {\"city\": \"Hanoi\", \"country\": \"Vietnam\"},\n",
    "    {\"city\": \"Manila\", \"country\": \"Philippines\"},\n",
    "    {\"city\": \"Seoul\", \"country\": \"South Korea\"},\n",
    "    {\"city\": \"Kuala Lumpur\", \"country\": \"Malaysia\"},\n",
    "    {\"city\": \"Tokyo\", \"country\": \"Japan\"},\n",
    "    {\"city\": \"Ho Chi Minh City\", \"country\": \"Vietnam\"},\n",
    "    {\"city\": \"Yokohama\", \"country\": \"Japan\"},\n",
    "    {\"city\": \"Taipei\", \"country\": \"Taiwan\"},\n",
    "    {\"city\": \"Guangzhou\", \"country\": \"China\"},\n",
    "    {\"city\": \"Mumbai\", \"country\": \"India\"},\n",
    "    {\"city\": \"New Delhi\", \"country\": \"India\"},\n",
    "    {\"city\": \"Surabaya\", \"country\": \"Indonesia\"},\n",
    "    {\"city\": \"Fukuoka\", \"country\": \"Japan\"},\n",
    "    {\"city\": \"Kyoto\", \"country\": \"Japan\"},\n",
    "    {\"city\": \"Busan\", \"country\": \"South Korea\"},\n",
    "    {\"city\": \"Kobe\", \"country\": \"Japan\"},\n",
    "    {\"city\": \"Nagoya\", \"country\": \"Japan\"},\n",
    "    {\"city\": \"Nanjing\", \"country\": \"China\"},\n",
    "    {\"city\": \"Shenzhen\", \"country\": \"China\"},\n",
    "    {\"city\": \"Wuhan\", \"country\": \"China\"},\n",
    "    {\"city\": \"Kaohsiung\", \"country\": \"Taiwan\"},\n",
    "    {\"city\": \"Ulsan\", \"country\": \"South Korea\"},\n",
    "    {\"city\": \"Osaka\", \"country\": \"Japan\"},\n",
    "    {\"city\": \"Bandung\", \"country\": \"Indonesia\"},\n",
    "    {\"city\": \"Hiroshima\", \"country\": \"Japan\"},\n",
    "    {\"city\": \"Nagoya\", \"country\": \"Japan\"},\n",
    "    {\"city\": \"Suzhou\", \"country\": \"China\"}\n",
    "]\n",
    "\n",
    "# Extended machine types and base energy consumption rates\n",
    "extended_machine_types = [\n",
    "    'Painting Booth', 'Oven', 'Torque Tool', 'Injection Moulding Machine',\n",
    "    'Air Compressor', 'AGV (Automated Guided Vehicle)', 'Testing Calibration Equipment',\n",
    "    'Conveyor', 'Heater', 'Cooler', 'Press', 'Milling'\n",
    "]\n",
    "extended_machine_features = {\n",
    "    'Painting Booth': 5.5,\n",
    "    'Oven': 6.5,\n",
    "    'Torque Tool': 1.8,\n",
    "    'Injection Moulding Machine': 4.5,\n",
    "    'Air Compressor': 7.0,\n",
    "    'AGV (Automated Guided Vehicle)': 2.0,\n",
    "    'Testing Calibration Equipment': 3.2,\n",
    "    'Conveyor': 1.5,\n",
    "    'Heater': 3.5,\n",
    "    'Cooler': 2.5,\n",
    "    'Press': 4.0,\n",
    "    'Milling': 3.0\n",
    "}\n",
    "\n",
    "# Seasons\n",
    "seasons = [\"Winter\", \"Spring\", \"Summer\", \"Fall\"]\n",
    "season_dates = {\n",
    "    \"Winter\": (1, [1, 2, 12]),\n",
    "    \"Spring\": (2, [3, 4, 5]),\n",
    "    \"Summer\": (3, [6, 7, 8]),\n",
    "    \"Fall\": (4, [9, 10, 11])\n",
    "}\n"
   ]
  },
  {
   "cell_type": "code",
   "execution_count": 4,
   "id": "1297ff18",
   "metadata": {},
   "outputs": [
    {
     "name": "stdout",
     "output_type": "stream",
     "text": [
      "Dataset created and saved as 'Volkswagen_OEM_AsiaPacific_2023_SyntheticDataset_withAge.csv'\n"
     ]
    }
   ],
   "source": [
    "# Generating data\n",
    "data = []\n",
    "base_date = datetime(2023, 1, 1)\n",
    "hours_in_day = 24 // 4  # Every 4-hour intervals for the entire year\n",
    "\n",
    "for factory_id, location in zip(factory_ids, locations):\n",
    "    for machine_type in extended_machine_types:\n",
    "        base_energy = extended_machine_features[machine_type]\n",
    "        \n",
    "        # Generate a random buy date within the past 10 years\n",
    "        buy_date = base_date - timedelta(days=random.randint(100, 3650))\n",
    "        machine_age_years = (base_date - buy_date).days / 365.25\n",
    "        \n",
    "        # Initial efficiency score based on age, with a small annual decrease\n",
    "        efficiency_score = round(max(0.7, 1.0 - machine_age_years * 0.02), 2)\n",
    "        \n",
    "        # Generate data for each 4-hour interval throughout the year\n",
    "        for day in range(365):\n",
    "            date = base_date + timedelta(days=day)\n",
    "            season = next((s for s, (_, months) in season_dates.items() if date.month in months), \"Unknown\")\n",
    "            for hour_block in range(hours_in_day):\n",
    "                timestamp = date + timedelta(hours=hour_block * 4)\n",
    "                \n",
    "                # Determine operational status with higher chances of downtime for older machines\n",
    "                downtime_chance = 0.02 + (machine_age_years * 0.005)  # Increase chance with age\n",
    "                operational_status = (\n",
    "                    random.choice(['Active', 'Idle', 'Off'])\n",
    "                    if random.random() < downtime_chance\n",
    "                    else 'Active'\n",
    "                )\n",
    "                \n",
    "                # Generate temperatures\n",
    "                avg_machine_temp = round(random.uniform(25, 80), 2)\n",
    "                avg_day_temp = round(random.uniform(-5, 40), 2)\n",
    "                \n",
    "                # Calculate energy rating and consumption\n",
    "                energy_rating = base_energy * (1 + efficiency_score)\n",
    "                energy_consumption = energy_rating if operational_status == 'Active' else 0\n",
    "\n",
    "                data.append({\n",
    "                    'Timestamp': timestamp,\n",
    "                    'Factory_ID': factory_id,\n",
    "                    'Factory_Location': f\"{location['city']}, {location['country']}\",\n",
    "                    'Machine_ID': f\"{factory_id}_M{random.randint(1000, 9999)}\",\n",
    "                    'Machine_Type': machine_type,\n",
    "                    'Machine_Temperature': avg_machine_temp,\n",
    "                    'Temperature_Current': avg_day_temp,\n",
    "                    'Buying_Date': buy_date.strftime('%Y-%m-%d'),\n",
    "                    'Efficiency_Score': efficiency_score,\n",
    "                    'Energy_Rating': energy_rating,\n",
    "                    'Energy_Consumption': energy_consumption,\n",
    "                    'Season': season,\n",
    "                    'Operational_Status': operational_status\n",
    "                })\n",
    "\n",
    "# Converting to DataFrame and saving\n",
    "dataset = pd.DataFrame(data)\n",
    "dataset.to_csv(\"Volkswagen_OEM_AsiaPacific_2023_SyntheticDataset_withAge.csv\", index=False)\n",
    "\n",
    "print(\"Dataset created and saved as 'Volkswagen_OEM_AsiaPacific_2023_SyntheticDataset_withAge.csv'\")"
   ]
  },
  {
   "cell_type": "code",
   "execution_count": null,
   "id": "49a33399",
   "metadata": {},
   "outputs": [],
   "source": []
  }
 ],
 "metadata": {
  "kernelspec": {
   "display_name": "Python 3 (ipykernel)",
   "language": "python",
   "name": "python3"
  },
  "language_info": {
   "codemirror_mode": {
    "name": "ipython",
    "version": 3
   },
   "file_extension": ".py",
   "mimetype": "text/x-python",
   "name": "python",
   "nbconvert_exporter": "python",
   "pygments_lexer": "ipython3",
   "version": "3.10.9"
  }
 },
 "nbformat": 4,
 "nbformat_minor": 5
}
